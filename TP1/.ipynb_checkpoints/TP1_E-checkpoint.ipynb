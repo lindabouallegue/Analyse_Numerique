{
 "cells": [
  {
   "cell_type": "markdown",
   "metadata": {},
   "source": [
    "# <img src=\"tpan1.png\">\n",
    "\n"
   ]
  },
  {
   "cell_type": "markdown",
   "metadata": {},
   "source": [
    "## Objectifs\n",
    "<p>Comparaison entre les trois méthodes pour donner une valeur approchée de de alpha pour f(x)=0 qui sont :</p>\n",
    "<h4>-La méthode de la dichotomie </h4>\n",
    "<h4>-La méthode du point fixe </h4>\n",
    "<h4>-La méthode de Newton </h4>"
   ]
  },
  {
   "cell_type": "markdown",
   "metadata": {},
   "source": [
    "## Exercice 1:<h2>\n",
    ">On considère le polynôme $p(x) = (x - 1)^6$. \n",
    ">\n",
    ">En développant on\n",
    ">peut écrire cgraphiquee même polynôme sous la forme\n",
    ">$f(x) = x^6 - 6x^5 + 15x^4 - 20x^3 + 15x^2 - 6x + 1.$\n",
    ">\n",
    ">1) Avec Matlab évaluer $p(x)$ et $f(x)$ pour $x$ allant de $.998$ à\n",
    ">$1.002$ en choisissant des pas de $.0001$.\n",
    ">\n",
    ">2) Faire un  de $f(x)$ et $p(x)$. Commenter."
   ]
  },
  {
   "cell_type": "code",
   "execution_count": 10,
   "metadata": {},
   "outputs": [],
   "source": [
    "def p1(x):\n",
    "    ''' p(x)=(x-1)⁶'''\n",
    "    return (x-1)**6 # ** puissance \n",
    "def p2(x):\n",
    "    '''version développer de p(x)'''\n",
    "    return x**6 - 6*x**5 + 15*x**4 - 20*x**3 + 15*x**2 - 6*x + 1\n",
    "    "
   ]
  },
  {
   "cell_type": "code",
   "execution_count": 13,
   "metadata": {},
   "outputs": [
    {
     "data": {
      "text/plain": [
       "64"
      ]
     },
     "execution_count": 13,
     "metadata": {},
     "output_type": "execute_result"
    }
   ],
   "source": [
    "p1(3)"
   ]
  },
  {
   "cell_type": "code",
   "execution_count": 14,
   "metadata": {},
   "outputs": [
    {
     "data": {
      "text/plain": [
       "64"
      ]
     },
     "execution_count": 14,
     "metadata": {},
     "output_type": "execute_result"
    }
   ],
   "source": [
    "p2(3)"
   ]
  },
  {
   "cell_type": "markdown",
   "metadata": {},
   "source": [
    "<p style=\"color:#FF0000\";><b>->La fonction p1 et p2 donnent le meme resultat</b></p>"
   ]
  },
  {
   "cell_type": "code",
   "execution_count": 3,
   "metadata": {},
   "outputs": [
    {
     "name": "stdout",
     "output_type": "stream",
     "text": [
      "p1(0.998)=6.400000000000034e-17 \n",
      "p2(0.998)=1.7763568394002505e-15 \n"
     ]
    }
   ],
   "source": [
    "# le calcul de p1(0.998)\n",
    "print('p1({})={} '.format(0.998,p1(0.998)))\n",
    "# le calcul de p2(0.998)\n",
    "print('p2({})={} '.format(0.998,p2(0.998)))"
   ]
  },
  {
   "cell_type": "markdown",
   "metadata": {},
   "source": [
    "<p style=\"color:#FF0000\";><b>->La fonction p1 donne un résultat plus précis que p2</b></p>"
   ]
  },
  {
   "cell_type": "markdown",
   "metadata": {},
   "source": [
    "### Solution de l'exercice 1 avec Python"
   ]
  },
  {
   "cell_type": "markdown",
   "metadata": {},
   "source": [
    "### Code Python de la fonction horner"
   ]
  },
  {
   "cell_type": "code",
   "execution_count": 17,
   "metadata": {},
   "outputs": [],
   "source": [
    "def horner(L,a):\n",
    "    R= L[0]\n",
    "    for k in range(1,len(L)):\n",
    "        R=R*a+L[k]\n",
    "    return(R)"
   ]
  },
  {
   "cell_type": "code",
   "execution_count": 18,
   "metadata": {},
   "outputs": [
    {
     "data": {
      "text/plain": [
       "0"
      ]
     },
     "execution_count": 18,
     "metadata": {},
     "output_type": "execute_result"
    }
   ],
   "source": [
    "horner([1,-6,15,-20,15,-6,1],1)"
   ]
  },
  {
   "cell_type": "code",
   "execution_count": 19,
   "metadata": {},
   "outputs": [],
   "source": [
    "def p(x):\n",
    "    return (x-1)**6\n",
    "\n",
    "def f(x):\n",
    "    return x**6-6*x**5+15*x**4-20*x**3+15*x**2-6*x+1"
   ]
  },
  {
   "cell_type": "code",
   "execution_count": 20,
   "metadata": {},
   "outputs": [
    {
     "name": "stdout",
     "output_type": "stream",
     "text": [
      "6.400000000000034e-17\n",
      "1.0000000000000053e-18\n",
      "0.0\n",
      "9.999999999993393e-19\n",
      "6.400000000000034e-17\n",
      "1.7763568394002505e-15\n",
      "0.0\n",
      "0.0\n",
      "-2.6645352591003757e-15\n",
      "1.7763568394002505e-15\n",
      "-1.3322676295501878e-15\n",
      "-2.220446049250313e-15\n",
      "0.0\n",
      "-6.661338147750939e-16\n",
      "-6.661338147750939e-16\n"
     ]
    }
   ],
   "source": [
    "import numpy as np\n",
    "T=[1,-6,15,-20,15,-6,1]\n",
    "#Expression réduite\n",
    "#('-------p(i)---------')\n",
    "for i in np.arange(0.998,1.002,0.001):\n",
    " print(p(i))\n",
    "#expression developpée\n",
    "#('-------f(i)----------')\n",
    "for i in np.arange(0.998,1.002,0.001):\n",
    " print(f(i))\n",
    "#horner\n",
    "#('-------horner--------')\n",
    "for i in np.arange(0.998,1.002,0.001):\n",
    " print(horner(T,i))"
   ]
  },
  {
   "cell_type": "markdown",
   "metadata": {},
   "source": [
    "<p style=\"color:#FF0000\";><b> -> La méthode horner donne des résultats plus précisent que les fonctions p(x) et f(x)</b></p>"
   ]
  },
  {
   "cell_type": "markdown",
   "metadata": {},
   "source": [
    "#### 2) "
   ]
  },
  {
   "cell_type": "code",
   "execution_count": 21,
   "metadata": {},
   "outputs": [
    {
     "data": {
      "text/plain": [
       "[<matplotlib.lines.Line2D at 0x200fb71c370>]"
      ]
     },
     "execution_count": 21,
     "metadata": {},
     "output_type": "execute_result"
    },
    {
     "data": {
      "image/png": "[encoded data removed]",
      "text/plain": [
       "<Figure size 432x288 with 1 Axes>"
      ]
     },
     "metadata": {
      "needs_background": "light"
     },
     "output_type": "display_data"
    }
   ],
   "source": [
    "import matplotlib.pyplot as plt\n",
    "import numpy as np\n",
    "from numpy import linspace\n",
    "t= np.linspace(0.998,1.002,41)\n",
    "f=lambda x:x**6-6*x**5+15*x**4-20*x**3+15*x**2-6*x+1\n",
    "p=lambda x:(x-1)**6\n",
    "plt.title (\"solution dans [0.998,1.002] \");\n",
    "plt.xlabel (\"x\");\n",
    "plt.ylabel (\"f(x)\");\n",
    "plt.grid(True)\n",
    "plt.plot(t,f(t))\n",
    "plt.plot(t,p(t))"
   ]
  },
  {
   "cell_type": "markdown",
   "metadata": {},
   "source": [
    "<h3><b>Les sources des erreurs :</b></h3>\n",
    " <p>- Il y a une accumulation des erreurs d'une opération à une autre</p>\n",
    "<p>-Avec le polynome p1 on a moins d'erreurs qu'avec le polynome p2 car on a moins d'opération</p>\n",
    "\n",
    "\n",
    "\n",
    "\n",
    "\n",
    "\n",
    "\n",
    "\n"
   ]
  },
  {
   "cell_type": "markdown",
   "metadata": {},
   "source": [
    "# EXERCICE 2:\n",
    "\n",
    ">On considère l'équation : $$ f(x)=x^3+x^2-3x-3=0$$\n",
    ">1) Dessiner la courbe de $f$ dans l'intervalle $[-2;2]$, puis trouver des intervalles convenables pour appliquer la méthode de >bisection.\n",
    ">\n",
    ">2) Utiliser un programme `dicho.m` qui permettra de trouver les solutions de l'équation $f(x)=0$ avec $eps=0.001$.\n",
    ">\n",
    ">3) Modifier le programme `dicho.m` pour qu'il donne le nombre d'itération nécessaire pour avoir la solution à $eps$ près."
   ]
  },
  {
   "cell_type": "markdown",
   "metadata": {},
   "source": [
    "## Version Python"
   ]
  },
  {
   "cell_type": "code",
   "execution_count": 22,
   "metadata": {},
   "outputs": [
    {
     "data": {
      "text/plain": [
       "[<matplotlib.lines.Line2D at 0x200fbe9f310>]"
      ]
     },
     "execution_count": 22,
     "metadata": {},
     "output_type": "execute_result"
    },
    {
     "data": {
      "image/png": "[encoded data removed]",
      "text/plain": [
       "<Figure size 432x288 with 1 Axes>"
      ]
     },
     "metadata": {
      "needs_background": "light"
     },
     "output_type": "display_data"
    }
   ],
   "source": [
    "import matplotlib.pyplot as plt\n",
    "from numpy import linspace\n",
    "f=lambda x: x**3+x**2-3*x-3\n",
    "T=linspace(-2,2,41)\n",
    "plt.title(\"solution dans [-2:2] \");\n",
    "plt.xlabel(\"x\")\n",
    "plt.ylabel (\"f(x)\")\n",
    "plt.grid(True)\n",
    "plt.plot(T,f(T))\n"
   ]
  },
  {
   "cell_type": "markdown",
   "metadata": {},
   "source": [
    "# Daprés le graph de $f$ il existe 3 solutions :\n",
    "- $\\alpha_1 \\in ]-2;-1.5[$ \n",
    "- $\\alpha_2 \\in ]-1.5;-0.5[$ \n",
    "- $\\alpha_3 \\in ]1.5;2[$ "
   ]
  },
  {
   "cell_type": "markdown",
   "metadata": {},
   "source": [
    "`[x]=dicho(f,-2,-1.5,0.001)`"
   ]
  },
  {
   "cell_type": "markdown",
   "metadata": {},
   "source": [
    "`[x]=dicho(f,-2,-1.5,0.001)`"
   ]
  },
  {
   "cell_type": "markdown",
   "metadata": {},
   "source": [
    "`[x]=dicho(f,-2,-1.5,0.001)`"
   ]
  },
  {
   "cell_type": "markdown",
   "metadata": {},
   "source": [
    "### La version python de `dicho`"
   ]
  },
  {
   "cell_type": "code",
   "execution_count": 23,
   "metadata": {},
   "outputs": [],
   "source": [
    "def dicho(a,b,f,n):\n",
    "    m=(a+b)/2\n",
    "    err=abs(b-a)\n",
    "    while err>n :\n",
    "        if f(m)==0:\n",
    "            return m\n",
    "        if f(a)*f(m)<0:\n",
    "            b=m\n",
    "        else:\n",
    "            a=m\n",
    "    return m\n",
    "    "
   ]
  },
  {
   "cell_type": "code",
   "execution_count": 24,
   "metadata": {},
   "outputs": [
    {
     "name": "stdout",
     "output_type": "stream",
     "text": [
      "-1.75\n",
      "-1.75\n",
      "-1.75\n"
     ]
    }
   ],
   "source": [
    "f=lambda x: x**3+x**2-3*x-3\n",
    "print(dicho(-2,-1.5,f,10))\n",
    "print(dicho(-2,-1.5,f,30))\n",
    "print(dicho(-2,-1.5,f,20))"
   ]
  },
  {
   "cell_type": "code",
   "execution_count": 25,
   "metadata": {},
   "outputs": [],
   "source": [
    "def dichow(a,b,f,eps):\n",
    "    N=0      \n",
    "    while b-a>eps :\n",
    "        m=(a+b)/2\n",
    "        if f(m)==0:\n",
    "            return m\n",
    "        if f(a)*f(m)<0:\n",
    "            b=m\n",
    "        else :\n",
    "            a=m\n",
    "        N+=1\n",
    "    return N\n",
    "    \n",
    "    "
   ]
  },
  {
   "cell_type": "markdown",
   "metadata": {},
   "source": [
    "- $\\alpha_1 \\in ]-2;-1.5[$ \n",
    "- $\\alpha_2 \\in ]-1.5;-0.5[$ \n",
    "- $\\alpha_3 \\in ]1.5;2[$ "
   ]
  },
  {
   "cell_type": "code",
   "execution_count": 26,
   "metadata": {},
   "outputs": [
    {
     "data": {
      "text/plain": [
       "9"
      ]
     },
     "execution_count": 26,
     "metadata": {},
     "output_type": "execute_result"
    }
   ],
   "source": [
    "f=lambda x: x**3+x**2-3*x-3\n",
    "dichow(-2,-1.5,f,0.001)"
   ]
  },
  {
   "cell_type": "markdown",
   "metadata": {},
   "source": [
    "## Python"
   ]
  },
  {
   "cell_type": "code",
   "execution_count": 27,
   "metadata": {},
   "outputs": [
    {
     "data": {
      "image/png": "[encoded data removed]",
      "text/plain": [
       "<Figure size 432x288 with 4 Axes>"
      ]
     },
     "metadata": {
      "needs_background": "light"
     },
     "output_type": "display_data"
    }
   ],
   "source": [
    "import numpy as np \n",
    "import matplotlib.pyplot as plt\n",
    "f=lambda x: x**3+x**2-3*3-3\n",
    "t=np.linspace(1.7,1.75,100);\n",
    "plt.subplot(2,2,1)\n",
    "plt.plot(t,f(t),'r')\n",
    "plt.grid(True)\n",
    "##########################################\n",
    "t=np.linspace(1.2,1.4,100);\n",
    "plt.subplot(2,2,2)\n",
    "plt.plot(t,f(t),'r')\n",
    "plt.grid(True)\n",
    "##########################################\n",
    "t=np.linspace(1.35,1.4,100);\n",
    "plt.subplot(2,2,3)\n",
    "plt.plot(t,f(t),'r')\n",
    "plt.grid(True)\n",
    "#########################################\n",
    "t=np.linspace(1.365,1.367,100);\n",
    "plt.subplot(2,2,4)\n",
    "plt.plot(t,f(t),'r')\n",
    "plt.grid(True)\n"
   ]
  },
  {
   "cell_type": "code",
   "execution_count": 28,
   "metadata": {},
   "outputs": [
    {
     "data": {
      "text/plain": [
       "3.0"
      ]
     },
     "execution_count": 28,
     "metadata": {},
     "output_type": "execute_result"
    }
   ],
   "source": [
    "import numpy as np\n",
    "np.floor(2.3)\n",
    "np.ceil(2.3)"
   ]
  },
  {
   "cell_type": "code",
   "execution_count": 29,
   "metadata": {},
   "outputs": [
    {
     "data": {
      "text/plain": [
       "27"
      ]
     },
     "execution_count": 29,
     "metadata": {},
     "output_type": "execute_result"
    }
   ],
   "source": [
    "import numpy as np\n",
    "a=-1.5\n",
    "b=-0.5\n",
    "p=8 # précision à 10 ^-8 prés\n",
    "dichow(a,b,f,10**(-p))\n",
    "#à 10^-8\n"
   ]
  },
  {
   "cell_type": "code",
   "execution_count": 30,
   "metadata": {},
   "outputs": [
    {
     "name": "stdout",
     "output_type": "stream",
     "text": [
      "9\n",
      "10\n",
      "9\n"
     ]
    }
   ],
   "source": [
    "interval=[[-2,-1.5],[-1.5,-0.5],[1.5,2]]\n",
    "for u in interval:\n",
    "    print(dichow(u[0],u[1],f,10**(-3)))\n"
   ]
  },
  {
   "cell_type": "markdown",
   "metadata": {},
   "source": [
    "Le nombre d'itération N nécéssaire à la méthode de la dichotomie pour trouver $\\alpha$ à $10^{-p}$ prés \n",
    "\n",
    "$$N \\geq E\\left(\\dfrac{\\ln(b-a)+p\\ln(10)}{\\ln(2)}\\right)+1$$"
   ]
  },
  {
   "cell_type": "code",
   "execution_count": 31,
   "metadata": {},
   "outputs": [
    {
     "data": {
      "text/plain": [
       "9.0"
      ]
     },
     "execution_count": 31,
     "metadata": {},
     "output_type": "execute_result"
    }
   ],
   "source": [
    "def ND(b,a,p): \n",
    "    return np.floor((np.log(b-a)+p*np.log(10))/np.log(2)+1)\n",
    "ND(-1.5,-2,3)"
   ]
  },
  {
   "cell_type": "code",
   "execution_count": 32,
   "metadata": {},
   "outputs": [
    {
     "data": {
      "text/plain": [
       "16"
      ]
     },
     "execution_count": 32,
     "metadata": {},
     "output_type": "execute_result"
    }
   ],
   "source": [
    "#alpha 1\n",
    "dichow(-2,-1.5,f,10**(-5))\n",
    "#à 10^-8"
   ]
  },
  {
   "cell_type": "code",
   "execution_count": 33,
   "metadata": {},
   "outputs": [
    {
     "data": {
      "text/plain": [
       "17"
      ]
     },
     "execution_count": 33,
     "metadata": {},
     "output_type": "execute_result"
    }
   ],
   "source": [
    "#alpha 2\n",
    "dichow(-1.51,-0.5,f,10**(-5))\n",
    "#à 10^-8"
   ]
  },
  {
   "cell_type": "markdown",
   "metadata": {},
   "source": [
    "## Méthode graphique pour la recherche de la solution "
   ]
  },
  {
   "cell_type": "code",
   "execution_count": 34,
   "metadata": {},
   "outputs": [
    {
     "data": {
      "image/png": "[encoded data removed]",
      "text/plain": [
       "<Figure size 432x288 with 4 Axes>"
      ]
     },
     "metadata": {
      "needs_background": "light"
     },
     "output_type": "display_data"
    }
   ],
   "source": [
    "import numpy as np \n",
    "import matplotlib.pyplot as plt\n",
    "\n",
    "f=lambda x:x**3+x**2-3*x-3\n",
    "\n",
    "t=np.linspace(1.7,1.75,100)\n",
    "plt.subplot(2,2,1)\n",
    "plt.plot(t,f(t),'r')\n",
    "plt.grid(True)\n",
    "##########################################\n",
    "t=np.linspace(1.2,1.4,100)\n",
    "plt.subplot(2,2,2)\n",
    "plt.plot(t,f(t),'r')\n",
    "plt.grid(True)\n",
    "##########################################\n",
    "t=np.linspace(1.35,1.4,100)\n",
    "plt.subplot(2,2,3)\n",
    "plt.plot(t,f(t),'r')\n",
    "plt.grid(True)\n",
    "#########################################\n",
    "t=np.linspace(1.365,1.367,100)\n",
    "plt.subplot(2,2,4)\n",
    "plt.plot(t,f(t),'r')\n",
    "plt.grid(True)\n"
   ]
  },
  {
   "cell_type": "markdown",
   "metadata": {},
   "source": [
    "# EXERCICE 3:\n",
    ">On considère l'équation : $$ f(x)=x^3+4x^2-10=0$$\n",
    ">1) Dessiner la courbe de $f$ dans l'intervalle $[1;2]$, puis trouver une valeur approché de la solution à 0.001 près (En >utilisant la fonction zoom du graphique).\n",
    ">\n",
    ">2) Vérifier que cette équation est équivalente aux 3 schéma du point fixe suivant:\n",
    ">\n",
    ">a) $g_1(x)=\\frac{1}{2}\\sqrt{10-x^3}=x$.\n",
    ">\n",
    ">b) $g_2(x)=\\sqrt{\\displaystyle\\frac{10}{4+x}}=x$.\n",
    ">\n",
    ">c) $g_3(x)=x-x^3-4x^2+10=x$.\n",
    ">\n",
    ">3) Ecrire puis appliquer  une fonction Matlab que l'on appellera  `pointfixe.m` aux trois schémas précédents en prenant >`x0=1.5;eps=0.001`.\n",
    ">\n",
    ">4) Quelle est la fonction (parmi $g_1, g_2$ et $g_3$) qui donne la convergence la plus rapide?\n",
    ">"
   ]
  },
  {
   "cell_type": "markdown",
   "metadata": {},
   "source": [
    "### Correction <h3>"
   ]
  },
  {
   "cell_type": "markdown",
   "metadata": {},
   "source": [
    "#### 1)<h4>"
   ]
  },
  {
   "cell_type": "code",
   "execution_count": 35,
   "metadata": {},
   "outputs": [
    {
     "data": {
      "image/png": "[encoded data removed]",
      "text/plain": [
       "<Figure size 432x288 with 4 Axes>"
      ]
     },
     "metadata": {
      "needs_background": "light"
     },
     "output_type": "display_data"
    }
   ],
   "source": [
    "import numpy as np \n",
    "import matplotlib.pyplot as plt\n",
    "\n",
    "f=lambda x:x**3+4*x**2-10\n",
    "\n",
    "t=np.linspace(1,2,100)\n",
    "plt.subplot(2,2,1)\n",
    "plt.plot(t,f(t),'r')\n",
    "plt.grid(True)\n",
    "##########################################\n",
    "t=np.linspace(1.2,1.4,100)\n",
    "plt.subplot(2,2,2)\n",
    "plt.plot(t,f(t),'r')\n",
    "plt.grid(True)\n",
    "##########################################\n",
    "t=np.linspace(1.35,1.4,100)\n",
    "plt.subplot(2,2,3)\n",
    "plt.plot(t,f(t),'r')\n",
    "plt.grid(True)\n",
    "#########################################\n",
    "t=np.linspace(1.365,1.367,100)\n",
    "plt.subplot(2,2,4)\n",
    "plt.plot(t,f(t),'r')\n",
    "plt.grid(True)\n"
   ]
  },
  {
   "cell_type": "markdown",
   "metadata": {},
   "source": [
    "#### 2) Justification théorique pour la fonction g1"
   ]
  },
  {
   "cell_type": "markdown",
   "metadata": {},
   "source": [
    "On considère l'équation : $$ f(x)=x^3+4x^2-10=0$$\n",
    "\n",
    "a) $g(x)=\\frac{1}{2}\\sqrt{10-x^3}=x$."
   ]
  },
  {
   "cell_type": "markdown",
   "metadata": {},
   "source": [
    " $$x^3+4x^2-10=0$$ \n",
    "    \n",
    " $$4x^2=10-x^3$$\n",
    " \n",
    " $$2x=\\sqrt{10-x^3}$$\n",
    " \n",
    " $$x=\\frac{1}{2}\\sqrt{10-x^3}$$\n",
    " \n",
    "Donc $ f(x)=g(x)$"
   ]
  },
  {
   "cell_type": "markdown",
   "metadata": {},
   "source": [
    "## Calcul symbolique de la dérivée"
   ]
  },
  {
   "cell_type": "code",
   "execution_count": 36,
   "metadata": {},
   "outputs": [],
   "source": [
    "from sympy import *\n",
    "import numpy as np\n",
    "x, y, z = symbols('x y z')\n",
    "init_printing(use_unicode=True)\n",
    "g1=lambda x: 1/2*sqrt(10-x**3)\n"
   ]
  },
  {
   "cell_type": "code",
   "execution_count": 37,
   "metadata": {},
   "outputs": [
    {
     "data": {
      "image/png": "[encoded data removed]",
      "text/latex": [
       "$\\displaystyle -0.511744628292746$"
      ],
      "text/plain": [
       "-0.5117446282927461"
      ]
     },
     "execution_count": 37,
     "metadata": {},
     "output_type": "execute_result"
    }
   ],
   "source": [
    "dg1=lambdify(x,diff(g1(x),x,1))\n",
    "dg1(1.365)"
   ]
  },
  {
   "cell_type": "markdown",
   "metadata": {},
   "source": [
    "### Que pouvez vous conclure à propos des convergences de g1"
   ]
  },
  {
   "cell_type": "markdown",
   "metadata": {},
   "source": [
    "<p style=\"color:#FF0000\";><b> ->g1 est strictement inférieure à 1 donc elle converge</b></p>"
   ]
  },
  {
   "cell_type": "markdown",
   "metadata": {},
   "source": [
    "## Justification théoriques pour g2 et g3"
   ]
  },
  {
   "cell_type": "markdown",
   "metadata": {},
   "source": [
    "On considère l'équation : $$ f(x)=x^3+4x^2-10=0$$\n",
    "\n",
    "b) $g(x)=\\sqrt{\\displaystyle\\frac{10}{4+x}}=x$."
   ]
  },
  {
   "cell_type": "markdown",
   "metadata": {},
   "source": [
    "$$x^3+4x^2-10=0$$\n",
    "$$x^3+4x^2=10$$\n",
    "$$x^2(x+4)=10$$\n",
    "$$x^2=\\frac{10}{x+4}$$\n",
    "$$x=\\sqrt{\\displaystyle\\frac{10}{4+x}}$$\n",
    "Donc $ f(x)=g(x)$"
   ]
  },
  {
   "cell_type": "markdown",
   "metadata": {},
   "source": [
    "On considère l'équation : $$ f(x)=x^3+4x^2-10=0$$\n",
    "c) $g(x)=x-x^3-4x^2+10=x$."
   ]
  },
  {
   "cell_type": "markdown",
   "metadata": {},
   "source": [
    "$$x^3+4x^2-10=0$$\n",
    "$$x^3+4x^2-10+x-x=0$$\n",
    "$$x^3-4x^2+x-x=10$$\n",
    "$$x^3-4x^2+x=x+10$$\n",
    "$$4x^2+x=x-x^3+10$$\n",
    "$$x=x-x^3-4x^2+10$$\n",
    "Donc $ f(x)=g(x)$"
   ]
  },
  {
   "cell_type": "markdown",
   "metadata": {},
   "source": [
    "## Etudier théoriquement la convergences de g2 et g3"
   ]
  },
  {
   "cell_type": "code",
   "execution_count": 38,
   "metadata": {},
   "outputs": [
    {
     "data": {
      "image/png": "[encoded data removed]",
      "text/latex": [
       "$\\displaystyle -0.127237584233386$"
      ],
      "text/plain": [
       "-0.12723758423338585"
      ]
     },
     "execution_count": 38,
     "metadata": {},
     "output_type": "execute_result"
    }
   ],
   "source": [
    "import numpy as np\n",
    "x,y,z=symbols('x y z')\n",
    "init_printing(use_unicode=True)\n",
    "g2=lambda x:sqrt(10/(4+x))\n",
    "dg2=lambdify(x,diff(g2(x),x))\n",
    "dg2(1.365)"
   ]
  },
  {
   "cell_type": "code",
   "execution_count": 39,
   "metadata": {},
   "outputs": [
    {
     "data": {
      "image/png": "[encoded data removed]",
      "text/latex": [
       "$\\displaystyle -15.509675$"
      ],
      "text/plain": [
       "-15.509675000000001"
      ]
     },
     "execution_count": 39,
     "metadata": {},
     "output_type": "execute_result"
    }
   ],
   "source": [
    "import numpy as np\n",
    "x,y,z=symbols('x y z')\n",
    "init_printing(use_unicode=True)\n",
    "g3=lambda x:x-x**3-4*x**2+10\n",
    "dg3=lambdify(x,diff(g3(x),x))\n",
    "dg3(1.365)"
   ]
  },
  {
   "cell_type": "markdown",
   "metadata": {},
   "source": [
    "### La solution avec un code python \n"
   ]
  },
  {
   "cell_type": "code",
   "execution_count": 40,
   "metadata": {},
   "outputs": [],
   "source": [
    "f=lambda x:  x**3+4*x**2-10 # la fonction f\n",
    "g1=lambda x: 1/2*sqrt(10-x**3)\n",
    "g2=lambda x: sqrt(10/(x+4))\n",
    "g3=lambda x: x-x**3-4*x**2 + 10\n",
    "\n",
    "\n",
    "def ptfixe(g,x0,eps,nmax):\n",
    "    zero=x0\n",
    "    for i in range(nmax):\n",
    "        x=zero\n",
    "        zero=g(x)\n",
    "        err=abs(zero-x)\n",
    "        print(zero)\n",
    "        if err<eps : \n",
    "            return zero,i  \n",
    "    print('pas de convergence avec le nombre d''iteration indique')\n",
    "\n"
   ]
  },
  {
   "cell_type": "code",
   "execution_count": 41,
   "metadata": {},
   "outputs": [
    {
     "name": "stdout",
     "output_type": "stream",
     "text": [
      "-0.875\n",
      "6.732421875\n",
      "-469.72001200169325\n",
      "102754555.18738511\n",
      "-1.0849338705317464e+24\n",
      "1.277055591444378e+72\n",
      "-2.082712908581025e+216\n"
     ]
    },
    {
     "ename": "OverflowError",
     "evalue": "(34, 'Result too large')",
     "output_type": "error",
     "traceback": [
      "\u001b[1;31m---------------------------------------------------------------------------\u001b[0m",
      "\u001b[1;31mOverflowError\u001b[0m                             Traceback (most recent call last)",
      "\u001b[1;32m<ipython-input-41-88c9c8adf27b>\u001b[0m in \u001b[0;36m<module>\u001b[1;34m\u001b[0m\n\u001b[1;32m----> 1\u001b[1;33m \u001b[0mptfixe\u001b[0m\u001b[1;33m(\u001b[0m\u001b[0mg3\u001b[0m\u001b[1;33m,\u001b[0m\u001b[1;36m1.5\u001b[0m\u001b[1;33m,\u001b[0m\u001b[1;36m0.001\u001b[0m\u001b[1;33m,\u001b[0m\u001b[1;36m50\u001b[0m\u001b[1;33m)\u001b[0m\u001b[1;33m\u001b[0m\u001b[1;33m\u001b[0m\u001b[0m\n\u001b[0m",
      "\u001b[1;32m<ipython-input-40-df5ad65ef9c4>\u001b[0m in \u001b[0;36mptfixe\u001b[1;34m(g, x0, eps, nmax)\u001b[0m\n\u001b[0;32m      9\u001b[0m     \u001b[1;32mfor\u001b[0m \u001b[0mi\u001b[0m \u001b[1;32min\u001b[0m \u001b[0mrange\u001b[0m\u001b[1;33m(\u001b[0m\u001b[0mnmax\u001b[0m\u001b[1;33m)\u001b[0m\u001b[1;33m:\u001b[0m\u001b[1;33m\u001b[0m\u001b[1;33m\u001b[0m\u001b[0m\n\u001b[0;32m     10\u001b[0m         \u001b[0mx\u001b[0m\u001b[1;33m=\u001b[0m\u001b[0mzero\u001b[0m\u001b[1;33m\u001b[0m\u001b[1;33m\u001b[0m\u001b[0m\n\u001b[1;32m---> 11\u001b[1;33m         \u001b[0mzero\u001b[0m\u001b[1;33m=\u001b[0m\u001b[0mg\u001b[0m\u001b[1;33m(\u001b[0m\u001b[0mx\u001b[0m\u001b[1;33m)\u001b[0m\u001b[1;33m\u001b[0m\u001b[1;33m\u001b[0m\u001b[0m\n\u001b[0m\u001b[0;32m     12\u001b[0m         \u001b[0merr\u001b[0m\u001b[1;33m=\u001b[0m\u001b[0mabs\u001b[0m\u001b[1;33m(\u001b[0m\u001b[0mzero\u001b[0m\u001b[1;33m-\u001b[0m\u001b[0mx\u001b[0m\u001b[1;33m)\u001b[0m\u001b[1;33m\u001b[0m\u001b[1;33m\u001b[0m\u001b[0m\n\u001b[0;32m     13\u001b[0m         \u001b[0mprint\u001b[0m\u001b[1;33m(\u001b[0m\u001b[0mzero\u001b[0m\u001b[1;33m)\u001b[0m\u001b[1;33m\u001b[0m\u001b[1;33m\u001b[0m\u001b[0m\n",
      "\u001b[1;32m<ipython-input-40-df5ad65ef9c4>\u001b[0m in \u001b[0;36m<lambda>\u001b[1;34m(x)\u001b[0m\n\u001b[0;32m      2\u001b[0m \u001b[0mg1\u001b[0m\u001b[1;33m=\u001b[0m\u001b[1;32mlambda\u001b[0m \u001b[0mx\u001b[0m\u001b[1;33m:\u001b[0m \u001b[1;36m1\u001b[0m\u001b[1;33m/\u001b[0m\u001b[1;36m2\u001b[0m\u001b[1;33m*\u001b[0m\u001b[0msqrt\u001b[0m\u001b[1;33m(\u001b[0m\u001b[1;36m10\u001b[0m\u001b[1;33m-\u001b[0m\u001b[0mx\u001b[0m\u001b[1;33m**\u001b[0m\u001b[1;36m3\u001b[0m\u001b[1;33m)\u001b[0m\u001b[1;33m\u001b[0m\u001b[1;33m\u001b[0m\u001b[0m\n\u001b[0;32m      3\u001b[0m \u001b[0mg2\u001b[0m\u001b[1;33m=\u001b[0m\u001b[1;32mlambda\u001b[0m \u001b[0mx\u001b[0m\u001b[1;33m:\u001b[0m \u001b[0msqrt\u001b[0m\u001b[1;33m(\u001b[0m\u001b[1;36m10\u001b[0m\u001b[1;33m/\u001b[0m\u001b[1;33m(\u001b[0m\u001b[0mx\u001b[0m\u001b[1;33m+\u001b[0m\u001b[1;36m4\u001b[0m\u001b[1;33m)\u001b[0m\u001b[1;33m)\u001b[0m\u001b[1;33m\u001b[0m\u001b[1;33m\u001b[0m\u001b[0m\n\u001b[1;32m----> 4\u001b[1;33m \u001b[0mg3\u001b[0m\u001b[1;33m=\u001b[0m\u001b[1;32mlambda\u001b[0m \u001b[0mx\u001b[0m\u001b[1;33m:\u001b[0m \u001b[0mx\u001b[0m\u001b[1;33m-\u001b[0m\u001b[0mx\u001b[0m\u001b[1;33m**\u001b[0m\u001b[1;36m3\u001b[0m\u001b[1;33m-\u001b[0m\u001b[1;36m4\u001b[0m\u001b[1;33m*\u001b[0m\u001b[0mx\u001b[0m\u001b[1;33m**\u001b[0m\u001b[1;36m2\u001b[0m \u001b[1;33m+\u001b[0m \u001b[1;36m10\u001b[0m\u001b[1;33m\u001b[0m\u001b[1;33m\u001b[0m\u001b[0m\n\u001b[0m\u001b[0;32m      5\u001b[0m \u001b[1;33m\u001b[0m\u001b[0m\n\u001b[0;32m      6\u001b[0m \u001b[1;33m\u001b[0m\u001b[0m\n",
      "\u001b[1;31mOverflowError\u001b[0m: (34, 'Result too large')"
     ]
    }
   ],
   "source": [
    "ptfixe(g3,1.5,0.001,50)"
   ]
  },
  {
   "cell_type": "code",
   "execution_count": null,
   "metadata": {},
   "outputs": [],
   "source": [
    "ptfixe(g1,1.5,0.001,50)"
   ]
  },
  {
   "cell_type": "code",
   "execution_count": null,
   "metadata": {},
   "outputs": [],
   "source": [
    "ptfixe(g2,1.5,0.001,50)"
   ]
  },
  {
   "cell_type": "markdown",
   "metadata": {},
   "source": [
    "### quelle est la fonction qui donne la convergence la plus rapide ??\n",
    "\n",
    "Donner le nombre d'itération pour chaque méthode convergent e\n",
    "+ $g_2$ donne le resultat en ? itérations \n",
    "+ $g_1$ donne le resultat en ?\n",
    "+ $g_3$ est - elle convergente?"
   ]
  },
  {
   "cell_type": "markdown",
   "metadata": {},
   "source": [
    "<p style=\"color:#FF0000\";><b> ->- g2 donne le resultat en 3 itérations</b></p>\n",
    "<p style=\"color:#FF0000\";><b> ->- g1 donne le resultat en 9 itérations</b></p>\n",
    "<p style=\"color:#FF0000\";><b> ->- g3 est divergente</b></p>"
   ]
  },
  {
   "cell_type": "markdown",
   "metadata": {},
   "source": [
    "# EXERCICE 4:\n",
    ">1) On considère la fonction $f(x)=e^{-x}-x$. Ecrire puis appliquer  une fonction Matlab que l'on appellera `newton.m` à la >fonction $f$, en prenant $x0=0$, $eps=0.001$ .\n",
    ">\n",
    ">2) Montrer que l'équation $f(x)=0$ admet une solution unique que l'on peut obtenir en utilisant la méthode de Newton à partir >de $x0=1$."
   ]
  },
  {
   "cell_type": "markdown",
   "metadata": {},
   "source": [
    "### Correction en python"
   ]
  },
  {
   "cell_type": "markdown",
   "metadata": {},
   "source": [
    "#### 1) <h4>"
   ]
  },
  {
   "cell_type": "code",
   "execution_count": null,
   "metadata": {},
   "outputs": [],
   "source": [
    "f=lambda x: exp(-x)-x\n",
    "fprime=lambdify(x,diff(f(x),x,1)) \n",
    "x2=0.5\n",
    "x1=x2\n",
    "x2=x1-(f(x1)/fprime(x1))\n",
    "print(x2)"
   ]
  },
  {
   "cell_type": "code",
   "execution_count": null,
   "metadata": {},
   "outputs": [],
   "source": [
    "def newtonn(f,fprime,a,eps):\n",
    "    x1=a\n",
    "    x2=x1-f(x1)/fprime(x1)\n",
    "    while abs(x1-x2)>eps:\n",
    "        x1=x2\n",
    "        x2=x1-f(x1)/fprime(x1)\n",
    "        sol=x2\n",
    "    return sol"
   ]
  },
  {
   "cell_type": "code",
   "execution_count": 42,
   "metadata": {},
   "outputs": [
    {
     "data": {
      "image/png": "[encoded data removed]",
      "text/plain": [
       "<Figure size 432x288 with 1 Axes>"
      ]
     },
     "metadata": {
      "needs_background": "light"
     },
     "output_type": "display_data"
    }
   ],
   "source": [
    "import numpy as np \n",
    "import matplotlib.pyplot as plt\n",
    "f=lambda x: np.exp(-x)-x\n",
    "fprime=lambda x: -np.exp(-x)-1\n",
    "t=np.linspace(0,1,100);\n",
    "plt.plot(t,f(t))\n",
    "plt.grid(True)"
   ]
  },
  {
   "cell_type": "code",
   "execution_count": null,
   "metadata": {},
   "outputs": [],
   "source": [
    "f=lambda x: np.exp(-x)-x\n",
    "fprime=lambda x: -np.exp(-x)-1\n",
    "newtonn(f,fprime,0,0.001)"
   ]
  },
  {
   "cell_type": "markdown",
   "metadata": {},
   "source": [
    "#### 2) <h4>"
   ]
  },
  {
   "cell_type": "code",
   "execution_count": null,
   "metadata": {},
   "outputs": [],
   "source": [
    "newtonn(f,fprime,1,0.001)"
   ]
  },
  {
   "cell_type": "markdown",
   "metadata": {},
   "source": [
    "<h2>Conclusion</h2>\n",
    "<hr>\n",
    "<h3>La méthode de la dichotomie</h3>\n",
    "<p>+ L'erreur ne dépend pas de la fonction f</p>\n",
    "<p>- la méthode de la dichotomie est lente</p>\n",
    "<h3>La méthode u point fixe</h3>\n",
    "<p>- La méthode est lente</p>\n",
    "<p>+ Plus l'ordre de convergence est grand plus la méthode est rapide </p>\n",
    "<h3>La méthode de Newton</h3>\n",
    "<p>+ La méthode de Newton est plus rapide que la méthode de la dichotomie</p>"
   ]
  }
 ],
 "metadata": {
  "kernelspec": {
   "display_name": "Python 3",
   "language": "python",
   "name": "python3"
  },
  "language_info": {
   "codemirror_mode": {
    "name": "ipython",
    "version": 3
   },
   "file_extension": ".py",
   "mimetype": "text/x-python",
   "name": "python",
   "nbconvert_exporter": "python",
   "pygments_lexer": "ipython3",
   "version": "3.8.8"
  }
 },
 "nbformat": 4,
 "nbformat_minor": 2
}
