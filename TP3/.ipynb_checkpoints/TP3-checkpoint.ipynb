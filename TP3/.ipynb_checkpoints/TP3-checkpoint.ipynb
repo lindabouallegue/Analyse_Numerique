{
 "cells": [
  {
   "cell_type": "markdown",
   "id": "3eca3d38",
   "metadata": {},
   "source": [
    "<h1 style=\"color:blue\"><center>TP3 Mini projet</center></h1>\n"
   ]
  },
  {
   "cell_type": "markdown",
   "id": "39c063ea",
   "metadata": {},
   "source": [
    "<h2>Objectifs:</h2>\n",
    "<p> Dans ce TP nous avons étudié les quatre méthodes de l'intégration numérique qui sont :</p>\n",
    "<p>- Méthode des Trapézes</p>\n",
    "<p>- Méthode de Simposon</p>\n",
    "<p>- Méthode des Rectangles</p>\n",
    "<p>- Méthode de Milieu</p>"
   ]
  },
  {
   "cell_type": "markdown",
   "id": "ccc93a7b",
   "metadata": {},
   "source": [
    "<h1>Définitions :</h1>\n",
    "<h3>Méthode des Trapézes</h3>\n",
    "<p>La méthode d'intégration approchée, dite des trapèzes, décrite ci-après, introduite par Newton & Cotes est plus précise que la méthode élémentaire, dite des rectangles, correspondant aux sommes de Cauchy-Riemann, consistant à remplacer la fonction initiale par une approximation en escalier. Graphiquement, sur l'intervalle [xi, xi+1], on remplace l'arc de courbe par le segment [MiNi+1], donc l'aire sous la courbe, par le « rectangle » xi Mi Ni+1 xi+1 :</p>\n",
    "<tr><td><img src=\"1.gif\" /></td><td><img src=\"2.gif\"/></td></tr>\n",
    "<h3>Méthode de Simposon</h3>\n",
    "<p></p>\n",
    "<h3>Méthode des Rectangles</h3>\n",
    "<p></p>\n",
    "<h3>Méthode de Milieu</h3>\n",
    "<p></p>"
   ]
  },
  {
   "cell_type": "code",
   "execution_count": 4,
   "id": "5f2d824c",
   "metadata": {},
   "outputs": [
    {
     "name": "stdout",
     "output_type": "stream",
     "text": [
      "Collecting package metadata (current_repodata.json): ...working... done\n",
      "Solving environment: ...working... done\n",
      "\n",
      "# All requested packages already installed.\n",
      "\n",
      "\n",
      "Note: you may need to restart the kernel to use updated packages.\n"
     ]
    }
   ],
   "source": [
    "conda update -n base -c defaults conda"
   ]
  },
  {
   "cell_type": "code",
   "execution_count": 2,
   "id": "65849788",
   "metadata": {},
   "outputs": [
    {
     "name": "stdout",
     "output_type": "stream",
     "text": [
      "Collecting package metadata (current_repodata.json): ...working... done\n",
      "\n",
      "Note: you may need to restart the kernel to use updated packages.Solving environment: ...working... done\n",
      "\n",
      "## Package Plan ##\n",
      "\n",
      "  environment location: C:\\Users\\Client\\anaconda3\n",
      "\n",
      "  added / updated specs:\n",
      "    - ipympl\n",
      "\n",
      "\n",
      "\n",
      "The following NEW packages will be INSTALLED:\n",
      "\n",
      "  python_abi         conda-forge/win-64::python_abi-3.8-2_cp38\n",
      "\n",
      "The following packages will be SUPERSEDED by a higher-priority channel:\n",
      "\n",
      "  conda              pkgs/main::conda-4.11.0-py38haa95532_0 --> conda-forge::conda-4.11.0-py38haa244fe_0\n",
      "\n",
      "\n",
      "Preparing transaction: ...working... done\n",
      "Verifying transaction: ...working... done\n",
      "Executing transaction: ...working... done\n"
     ]
    }
   ],
   "source": [
    "conda install -c conda-forge ipympl"
   ]
  },
  {
   "cell_type": "code",
   "execution_count": 3,
   "id": "5eb1621e",
   "metadata": {},
   "outputs": [
    {
     "name": "stdout",
     "output_type": "stream",
     "text": [
      "Collecting package metadata (current_repodata.json): ...working... done\n",
      "Solving environment: ...working... done\n",
      "\n",
      "# All requested packages already installed.\n",
      "\n",
      "\n",
      "Note: you may need to restart the kernel to use updated packages.\n"
     ]
    }
   ],
   "source": [
    "conda install -c conda-forge ipywidgets"
   ]
  },
  {
   "cell_type": "code",
   "execution_count": 4,
   "id": "e5f91d26",
   "metadata": {},
   "outputs": [],
   "source": [
    "%matplotlib widget\n",
    "import ipywidgets as widgets\n",
    "import matplotlib.pyplot as plt\n",
    "import numpy as np\n",
    "from numpy import *"
   ]
  },
  {
   "cell_type": "code",
   "execution_count": 5,
   "id": "3f7ae6de",
   "metadata": {},
   "outputs": [],
   "source": [
    "class RectangleG ( object ) :\n",
    "    def __init__ (self , a , b , n , f ) :\n",
    "        self.a = a\n",
    "        self.b = b\n",
    "        self.x = np.linspace( a , b , n+1 )\n",
    "        self.f = f\n",
    "        self.n = n\n",
    "    def integrate ( self , f ) :\n",
    "        x= self.x\n",
    "        y= f( x )\n",
    "        h = float( x[1] - x[0] )\n",
    "        s = sum( y[ 0 : -1 ] )\n",
    "        return h * s\n",
    "    def Graph ( self , f , resolution =1001 ) :\n",
    "        xl = self.x\n",
    "        yl = f(xl)\n",
    "        xlist_fine =np.linspace( self.a , self.b , resolution )\n",
    "        for i in range ( self.n ) :\n",
    "            x_rect = [xl[ i ] , xl[ i ] , xl[ i + 1 ] , xl[i+1] , xl[ i ] ] # abscisses des sommets\n",
    "            y_rect = [0 , yl[ i ] , yl[ i ] , 0 , 0 ] # ordonnees des sommets\n",
    "            plt.plot ( x_rect , y_rect , 'r' )\n",
    "        yflist_fine = f ( xlist_fine )\n",
    "        plt.plot ( xlist_fine , yflist_fine )\n",
    "        plt.plot(xl, yl,\"bo\")\n",
    "        plt.xlabel ( 'x' )\n",
    "        plt.ylabel ( ' f ( x ) ' )\n",
    "        plt.title ( ' Methode des rectangles gauches' )\n",
    "        #plt.text( 0.5*( self.a+ self.b ) , f(self.b ) , 'I_{} ={:0.8f}'.format(self.n,self.integrate( f ) ) , fontsize =15 )"
   ]
  },
  {
   "cell_type": "code",
   "execution_count": 6,
   "id": "ebdb346d",
   "metadata": {},
   "outputs": [],
   "source": [
    "class Trapezoidal(object):\n",
    "    def __init__(self, a, b, n, f):\n",
    "        self.a = a\n",
    "        self.b = b\n",
    "        self.x = np.linspace(a, b, n+1)\n",
    "        self.f = f\n",
    "        self.n = n\n",
    "    def integrate(self,f):\n",
    "        x=self.x\n",
    "        y=f(x)\n",
    "        h = float(x[1] - x[0])\n",
    "        s = y[0] + y[-1] + 2.0*sum(y[1:-1])\n",
    "        return h * s / 2.0\n",
    "    def Graph(self,f,resolution=1001):\n",
    "        xl = self.x\n",
    "        yl = f(xl)\n",
    "        xlist_fine=np.linspace(self.a, self.b, resolution)\n",
    "        for i in range(self.n):\n",
    "            x_rect = [xl[i], xl[i], xl[i+1], xl[i+1], xl[i]] # abscisses des sommets\n",
    "            y_rect = [0   , yl[i], yl[i+1]  , 0     , 0   ] # ordonnees des sommets\n",
    "            plt.plot(x_rect, y_rect,\"m\")\n",
    "        yflist_fine = f(xlist_fine)\n",
    "        plt.plot(xlist_fine, yflist_fine)#plot de f(x)\n",
    "        plt.plot(xl, yl,\"cs\")#point support\n",
    "        plt.ylabel ( ' f ( x ) ' )\n",
    "        plt.title ( ' Methode des Trapèzes' )\n",
    "        #plt.text( 0.5*( self.a+ self.b ) , f(self.b ) , 'I_{} ={:0.8f}'.format(self.n,self.integrate( f ) ) , fontsize =15 )"
   ]
  },
  {
   "cell_type": "code",
   "execution_count": 7,
   "id": "f1222e53",
   "metadata": {},
   "outputs": [],
   "source": [
    "class Simpson(object):\n",
    "    def __init__(self, a, b, n, f): #initialiser les paramètres du classe\n",
    "        self.a = a\n",
    "        self.b = b\n",
    "        self.x = np.linspace(a, b, n+1)#les pts supports\n",
    "        self.f = f\n",
    "        self.n = n #nombre de subdivision\n",
    "\n",
    "    def integrate(self,f):#calculer la somme ((b-a)/6*n)*[f(a)+2*sum(xi)+4*sum(mi)+f(b)]\n",
    "        x=self.x #les points supports xi #x(0)=a-->x(n)=b\n",
    "        y=f(x) #yi variable local y(o)=f(xo)-->y(n)\n",
    "        h = float(x[1] - x[0])#pas h=(b-a)/2*n\n",
    "        n = len(x) - 1#nombre subdivision\n",
    "        if n % 2 == 1:#si le reste de la division =1 impaire\n",
    "            n -= 1#☺nombre de sub ywali paire\n",
    "        s = y[0] + y[n] + 4.0 * sum(y[1:-1:2]) + 2.0 * sum(y[2:-2:2])\n",
    "        #y[1:-1:2] min impaire loulla m0 lil 9bal likhrania 5ater 3anna deja y(n) par pas de 2== mi\n",
    "        #calculer la somme\n",
    "        #T(-1] dernier valeur dans le tableau)\n",
    "        return h * s / 3.0\n",
    "    def Graph(self,f,resolution=1001):#1000 points 1001 résolution juste pour dessiner f\n",
    "        xl = self.x #pt support\n",
    "        yl = f(xl) #yi\n",
    "        xlist_fine=np.linspace(self.a, self.b, resolution)\n",
    "        # pour le graph de la fonction f #intervalle ab subdiviser en 1000 poitns\n",
    "        for i in range(self.n):#range intervalle 0 à n\n",
    "            xx=np.linspace(xl[i], xl[i+1], resolution)\n",
    "            #pour chaque subdivisuion  on doit dessiner polynome dnc on doit aussi le subdiviser\n",
    "            m=(xl[i]+xl[i+1])/2#pt milieu\n",
    "            aa=xl[i]#borne gauche\n",
    "            bb=xl[i+1]#borne droite\n",
    "            l0 = (xx-m)/(aa-m)*(xx-bb)/(aa-bb)\n",
    "            l1 = (xx-aa)/(m-aa)*(xx-bb)/(m-bb)\n",
    "            l2 = (xx-aa)/(bb-aa)*(xx-m)/(bb-m)\n",
    "            P = f(aa)*l0 + f(m)*l1 + f(bb)*l2#fonction dde polynome\n",
    "            plt.plot(xx,P,'b')#dessiner polynome d'interpolation\n",
    "            plt.plot(m,f(m),\"r*\")\n",
    "        yflist_fine = f(xlist_fine)#fontion f\n",
    "        plt.plot(xlist_fine, yflist_fine,'g')\n",
    "        plt.plot(xl, yl,'bo')#point support en bleu rond\n",
    "        \n",
    "        plt.ylabel('f(x)')\n",
    "        plt.title('Simpson')\n",
    "        #plt.text( 0.5*( self.a+ self.b ) , f(self.b ) , 'I_{} ={:0.8f}'.format(self.n,self.integrate( f ) ) , fontsize =15 )\n",
    "#########################################"
   ]
  },
  {
   "cell_type": "code",
   "execution_count": 13,
   "id": "f5748140",
   "metadata": {},
   "outputs": [],
   "source": [
    "class Milieu(object): #class rectange \n",
    "    def __init__(self, a, b, n, f):#initialiser les paramètres du classe\n",
    "        self.a = a\n",
    "        self.b = b\n",
    "        self.x = np.linspace(a, b, n+1)\n",
    "        self.f = f\n",
    "        self.n = n\n",
    "    def integrate(self,f):\n",
    "        x=self.x# contiens les xi\n",
    "        h = float(x[1] - x[0])\n",
    "        s=0\n",
    "        for i in range(self.n):\n",
    "            s=s+f((x[i]+x[i+1])*0.5)\n",
    "        return h*s\n",
    "       \n",
    "    def Graph(self,f,resolution=1001):\n",
    "        xl = self.x\n",
    "        yl=f(xl);\n",
    "        xlist_fine=np.linspace(self.a, self.b, resolution)        \n",
    "        for i in range(self.n):            \n",
    "            m=(xl[i]+xl[i+1])/2\n",
    "            x_rect = [xl[i], xl[i], xl[i+1], xl[i+1], xl[i]] # abscisses des sommets\n",
    "            y_rect = [0   , f(m), f(m)  , 0     , 0   ] # ordonnees des sommets\n",
    "            plt.plot(x_rect, y_rect,\"r\")\n",
    "            plt.plot(m,f(m),\"b*\")\n",
    "            \n",
    "        yflist_fine = f(xlist_fine)\n",
    "        plt.plot(xlist_fine, yflist_fine,'g')\n",
    "        plt.xlabel('x')\n",
    "        plt.ylabel('f(x)')\n",
    "        plt.title('Milieu')\n",
    "        #plt.text( 0.5*( self.a+ self.b ) , f(self.b ) , 'I_{} ={:0.8f}'.format(self.n,self.integrate( f ) ) , fontsize =15 )"
   ]
  },
  {
   "cell_type": "code",
   "execution_count": 14,
   "id": "ddedcf01",
   "metadata": {},
   "outputs": [],
   "source": [
    "# create some control elements\n",
    "Sel=widgets.Dropdown(\n",
    "    options=[('Méthode des réctangles gauches', 1), ('Méthode des Trapèzes', 2),('Méthodes des Points Milieux', 3) ,('Méthodes de Simpson', 4)],\n",
    "    value=2,\n",
    "    description='Méthode:',\n",
    ")\n",
    "text_func = widgets.Text(value='cos(x)', description='Fonction', continuous_update=False)\n",
    "text_xlabel = widgets.Text(value='', description='xlabel', continuous_update=False)\n",
    "text_ylabel = widgets.Text(value='', description='ylabel', continuous_update=False)\n",
    "text_a = widgets.Text(value='-1', description='a', continuous_update=False)\n",
    "text_b = widgets.Text(value='1', description='b', continuous_update=False)\n",
    "text_n = widgets.Text(value='3', description='n', continuous_update=False)\n",
    "text_int = widgets.Text(value='', description='I_n', continuous_update=True)\n",
    "button = widgets.Button(description=\"Calculer\")\n",
    "# callback functions\n",
    "def sim(b):\n",
    "    dic={1:RectangleG,2:Trapezoidal,3:Milieu,4:Simpson}\n",
    "    s=Sel.value\n",
    "    plt.cla()\n",
    "    func=lambda x:eval(text_func.value)\n",
    "    R=dic[s](float(text_a.value), float(text_b.value),int(text_n.value),func)\n",
    "    R.Graph(func)\n",
    "    text_int.value=str(R.integrate(func))\n",
    "    text_int.description='I_'+text_n.value\n",
    "\n",
    "\n",
    "\n",
    "def update_a(change):\n",
    "    change.new    \n",
    "def update_b(change):\n",
    "    change.new\n",
    "def update_n(change):\n",
    "    change.new\n",
    "def update_f(change):\n",
    "    change.new\n",
    "\n",
    "button.on_click(sim)\n",
    "# connect callbacks and traits\n",
    "\n",
    "text_func.observe(update_f, 'value')\n",
    "text_a.observe(update_a, 'value')\n",
    "text_b.observe(update_b, 'value')"
   ]
  },
  {
   "cell_type": "code",
   "execution_count": 15,
   "id": "138d94d6",
   "metadata": {},
   "outputs": [
    {
     "data": {
      "application/vnd.jupyter.widget-view+json": {
       "model_id": "53464686f7d544aa8e40d5f107166b87",
       "version_major": 2,
       "version_minor": 0
      },
      "text/plain": [
       "HBox(children=(VBox(children=(Dropdown(description='Méthode:', index=1, options=(('Méthode des réctangles gauc…"
      ]
     },
     "metadata": {},
     "output_type": "display_data"
    },
    {
     "data": {
      "application/vnd.jupyter.widget-view+json": {
       "model_id": "e3b2ab6d687a40afbed03b09874a1d50",
       "version_major": 2,
       "version_minor": 0
      },
      "text/html": [
       "\n",
       "            <div style=\"display: inline-block;\">\n",
       "                <div class=\"jupyter-widgets widget-label\" style=\"text-align: center;\">\n",
       "                    Figure\n",
       "                </div>\n",
       "                <img src='data:image/png;base64,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' width=600.0/>\n",
       "            </div>\n",
       "        "
      ],
      "text/plain": [
       "Canvas(toolbar=Toolbar(toolitems=[('Home', 'Reset original view', 'home', 'home'), ('Back', 'Back to previous …"
      ]
     },
     "metadata": {},
     "output_type": "display_data"
    }
   ],
   "source": [
    "output = widgets.Output()\n",
    "\"\"\"\n",
    "if plt.gcf().number>=2:\n",
    "        for i in range(2,plt.gcf().number):\n",
    "            plt.close(i)\n",
    "            \"\"\"\n",
    "with output:\n",
    "    fig, ax = plt.subplots(constrained_layout=True, figsize=(6, 4))     \n",
    "# move the toolbar to the bottom\n",
    "fig.canvas.toolbar_position = 'bottom'\n",
    "\n",
    "\n",
    "def make_boxes():\n",
    "    vbox1 = widgets.VBox([Sel, text_func,text_a,text_b,text_n,button,text_int])\n",
    "    vbox2 = widgets.VBox([ output])\n",
    "    return vbox1, vbox2\n",
    "box_layout = widgets.Layout(\n",
    "        border='solid 2px gray',\n",
    "        margin='0px 10px 10px 0px',\n",
    "        padding='5px 5px 5px 5px')\n",
    " \n",
    "vbox1, vbox2 = make_boxes()\n",
    " \n",
    "vbox1.layout = box_layout\n",
    "vbox2.layout = box_layout\n",
    "\n",
    "widgets.HBox([vbox1, vbox2])"
   ]
  }
 ],
 "metadata": {
  "kernelspec": {
   "display_name": "Python 3",
   "language": "python",
   "name": "python3"
  },
  "language_info": {
   "codemirror_mode": {
    "name": "ipython",
    "version": 3
   },
   "file_extension": ".py",
   "mimetype": "text/x-python",
   "name": "python",
   "nbconvert_exporter": "python",
   "pygments_lexer": "ipython3",
   "version": "3.8.8"
  }
 },
 "nbformat": 4,
 "nbformat_minor": 5
}
