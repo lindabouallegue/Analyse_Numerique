{
 "cells": [
  {
   "cell_type": "markdown",
   "metadata": {},
   "source": [
    "# TP2 Interpolation Numérique \n",
    "<img src=\"tp2an.png\">"
   ]
  },
  {
   "cell_type": "markdown",
   "metadata": {},
   "source": [
    "## Exercice 1"
   ]
  },
  {
   "cell_type": "markdown",
   "metadata": {},
   "source": [
    "## Version Python"
   ]
  },
  {
   "cell_type": "code",
   "execution_count": 21,
   "metadata": {},
   "outputs": [],
   "source": [
    "from numpy import prod\n",
    "def prog(x,y,c):\n",
    "    S = [] \n",
    "    n = len(x)\n",
    "    \n",
    "    for j in range(n):\n",
    "        L =[c-xx for xx in x]\n",
    "        for k in range(n):\n",
    "            if (k == j):                \n",
    "                L[k] = 1\n",
    "            else:\n",
    "                L[k] = L[k]/(x[j] - x[k])   \n",
    "        S.append(y[j]*prod(L))\n",
    "        \n",
    "    return  sum(S)"
   ]
  },
  {
   "cell_type": "code",
   "execution_count": 22,
   "metadata": {},
   "outputs": [
    {
     "name": "stdout",
     "output_type": "stream",
     "text": [
      "-1.0\n",
      "0.0\n",
      "2.0\n",
      "1.0\n",
      "3.0\n"
     ]
    },
    {
     "data": {
      "text/plain": [
       "8"
      ]
     },
     "execution_count": 22,
     "metadata": {},
     "output_type": "execute_result"
    }
   ],
   "source": [
    "\n",
    "X=[1 ,2 ,3 ,4,-2];\n",
    "Y=[-1, 0, 2 ,1,3];\n",
    "for i in X:\n",
    "    print(prog(X,Y,i))\n",
    "sum(X)"
   ]
  },
  {
   "cell_type": "code",
   "execution_count": 23,
   "metadata": {},
   "outputs": [],
   "source": [
    "import numpy as np\n",
    "import matplotlib.pyplot as plt"
   ]
  },
  {
   "cell_type": "code",
   "execution_count": 24,
   "metadata": {},
   "outputs": [
    {
     "data": {
      "image/png": "[encoded data removed]",
      "text/plain": [
       "<Figure size 432x288 with 1 Axes>"
      ]
     },
     "metadata": {
      "needs_background": "light"
     },
     "output_type": "display_data"
    }
   ],
   "source": [
    "# la courbe du polynome de Lagrange qui passe par les points suports suivant\n",
    "#(1,-1),(2,3)(3,2),(4,1)\n",
    "X=[1,2,3,4]\n",
    "Y=[-1,3,2,1]\n",
    "t=np.linspace(-1,5,201)\n",
    "len(t)\n",
    "imaget=[prog(X,Y,i) for i in t]\n",
    "plt.plot(t,imaget,'r')\n",
    "plt.plot(X,Y,'ob')\n",
    "plt.grid(True)\n",
    "plt.show()"
   ]
  },
  {
   "cell_type": "markdown",
   "metadata": {},
   "source": [
    "**Polynome d'interpolation de Lagrange** \n",
    "> Soient $(x_0,y_0), \\ldots,(x_k,y_k),\\ldots ,(x_n,k_n)$ $n+1$ points deux à deux distincts, le polynôme d'interpolation de Lagrange associés à ces points supports est défini par :\n",
    "> $$P_n(x)=\\sum_{k=0}^{n-1} y_kL_k(x)$$\n",
    "\n",
    "avec $L_{0}(x)=\\displaystyle\\frac{(x-x_1)(x-x_2)\\ldots(x-x_{n})}{(x_0-x_1)(x_0-x_2)\\ldots(x_0-x_{n})}$ et $L_{k}(x)=\\displaystyle\\frac{(x-x_1)(x-x_2)\\ldots(x-x_{k-1})(x-x_{k+1})\\ldots(x_0-x_{n})}{(x_k-x_0)(x_k-x_1)\\ldots(x_k-x_{k-1})(x_k-x_{k+1})\\ldots(x_k-x_{n})}$ pour $k\\in \\{1,\\ldots,n\\}$"
   ]
  },
  {
   "cell_type": "markdown",
   "metadata": {},
   "source": [
    "1) Que renvoie la fonction PR lorsqu'on lui déclare  **x=(x(1),x(2),...,x(n))x=(x(1),x(2),...,x(n))**  et  **y=(y(1),y(2),...,y(n))y=(y(1),y(2),...,y(n))**  deux vecteurs de même longueur  `n` et `c`  un nombre réel donné."
   ]
  },
  {
   "cell_type": "markdown",
   "metadata": {},
   "source": [
    "## Code Python"
   ]
  },
  {
   "cell_type": "code",
   "execution_count": 25,
   "metadata": {},
   "outputs": [],
   "source": [
    "from numpy import prod  \n",
    "def PR(x,y,c):\n",
    "    S=[]\n",
    "    n = len(x)\n",
    "    for j in range(n):\n",
    "        L = [c-u for u in x]\n",
    "        for k in range (n):\n",
    "            if k ==j :\n",
    "                L[k]=1\n",
    "            else:\n",
    "                L[k]= L[k]/(x[j]-x[k])\n",
    "        S.append(y[j] * prod(L))\n",
    "    return sum(S)   \n",
    "\n",
    "             "
   ]
  },
  {
   "cell_type": "code",
   "execution_count": 26,
   "metadata": {},
   "outputs": [
    {
     "name": "stdout",
     "output_type": "stream",
     "text": [
      "-1.0\n",
      "0.0\n",
      "2.0\n",
      "1.0\n"
     ]
    }
   ],
   "source": [
    "X=[1,2,3,4];\n",
    "Y=[-1,0,2,1];\n",
    "for k in X: \n",
    "    print(PR(X,Y,k))\n"
   ]
  },
  {
   "cell_type": "markdown",
   "metadata": {},
   "source": [
    "2) Que contient le vecteur  LL  après la fin de la boucle  kk ."
   ]
  },
  {
   "cell_type": "code",
   "execution_count": 27,
   "metadata": {},
   "outputs": [],
   "source": [
    "x=[1,2,3,4];\n",
    "y=[-1,0,2,1];"
   ]
  },
  {
   "cell_type": "code",
   "execution_count": 28,
   "metadata": {},
   "outputs": [],
   "source": [
    "S = y \n",
    "n = len(x)\n",
    "for c in X:\n",
    "    for j in range(n):\n",
    "        L = [c-u for u in x]\n",
    "        for k in  range(n):\n",
    "            if (k == j):\n",
    "                L[k] = 1\n",
    "            else:\n",
    "                L[k] = L[k]/(x[j] - x[k])\n",
    "            S.append(y[j]*prod(L))\n",
    "        \n",
    "    u=sum(S)\n"
   ]
  },
  {
   "cell_type": "code",
   "execution_count": 29,
   "metadata": {},
   "outputs": [
    {
     "name": "stdout",
     "output_type": "stream",
     "text": [
      "[1.0, 1.0, 1.0, 1]\n"
     ]
    }
   ],
   "source": [
    "print(L)"
   ]
  },
  {
   "cell_type": "markdown",
   "metadata": {},
   "source": [
    "3) Utiliser cette fonction pour dessiner le graph du polynôme de Lagrange  de la fonction $f(x) = \\dfrac{1}{1 + x^2}$ aux points $x=[-1:0.1:1]$."
   ]
  },
  {
   "cell_type": "code",
   "execution_count": 30,
   "metadata": {},
   "outputs": [
    {
     "data": {
      "image/png": "[encoded data removed]",
      "text/plain": [
       "<Figure size 432x288 with 1 Axes>"
      ]
     },
     "metadata": {
      "needs_background": "light"
     },
     "output_type": "display_data"
    }
   ],
   "source": [
    "x=np.arange(-1,1,0.5);\n",
    "f=lambda x: 1/(1+x**2)\n",
    "y=f(x)\n",
    "t=np.linspace(-1,1,100)\n",
    "imaget=[f(x)for i in t]\n",
    "imaget=[prog(x,y,i)for i in t]\n",
    "plt.plot(t,imaget,'r',x,y,'bo',t,imaget,'g')\n",
    "plt.grid()\n",
    "plt.show()"
   ]
  },
  {
   "cell_type": "code",
   "execution_count": 44,
   "metadata": {},
   "outputs": [
    {
     "data": {
      "text/plain": [
       "<matplotlib.legend.Legend at 0x248799510d0>"
      ]
     },
     "execution_count": 44,
     "metadata": {},
     "output_type": "execute_result"
    },
    {
     "data": {
      "image/png": "[encoded data removed]",
      "text/plain": [
       "<Figure size 432x288 with 1 Axes>"
      ]
     },
     "metadata": {
      "needs_background": "light"
     },
     "output_type": "display_data"
    }
   ],
   "source": [
    "import matplotlib.pyplot as plt\n",
    "from numpy import linspace\n",
    "x=[-1,0.1,1]\n",
    "f=lambda x: 1/(1+x**2)\n",
    "\n",
    "t=linspace(-1,1,100)\n",
    "\n",
    "plt.plot(t,f(t),'r',label=\"F(x)\")\n",
    "plt.legend()"
   ]
  },
  {
   "cell_type": "code",
   "execution_count": 45,
   "metadata": {},
   "outputs": [
    {
     "name": "stdout",
     "output_type": "stream",
     "text": [
      "la polynome de Lagrange de la fonction f(x) est :\n",
      "        2\n",
      "-0.495 x + 0.995\n"
     ]
    }
   ],
   "source": [
    "from scipy.interpolate import lagrange\n",
    "import numpy as np \n",
    "x = np.array([-1, 0.1, 1])\n",
    "y = 1/(1+x**2)\n",
    "poly = lagrange(x,y)\n",
    "print(\"la polynome de Lagrange de la fonction f(x) est :\")\n",
    "print(poly)"
   ]
  },
  {
   "cell_type": "code",
   "execution_count": 46,
   "metadata": {},
   "outputs": [
    {
     "data": {
      "image/png": "[encoded data removed]",
      "text/plain": [
       "<Figure size 432x288 with 1 Axes>"
      ]
     },
     "metadata": {
      "needs_background": "light"
     },
     "output_type": "display_data"
    }
   ],
   "source": [
    "import matplotlib.pyplot as plt\n",
    "from numpy import linspace\n",
    "f=poly\n",
    "T=linspace(-1,1,100)\n",
    "plt.title('le polynome de Lagrange de f(x)')\n",
    "plt.plot(T,f(T),'pink')    \n",
    "plt.show()"
   ]
  },
  {
   "cell_type": "markdown",
   "metadata": {},
   "source": [
    "4) On considère la fonction $F$ suivante :\n",
    "$$\n",
    "F(h) = \\pi -\\cos \\left(\\frac{h}{2}\\right) + h \\sqrt{1-\\left(\\frac{h}{2}\\right)^2}, \\qquad\n",
    "h\\in [0,2],\n",
    "$$\n",
    "et les points d'interpolation $x_i = ih$, $0\\leq i\\leq n$, avec $ n=20$ et $h=0.1$."
   ]
  },
  {
   "cell_type": "markdown",
   "metadata": {},
   "source": [
    "4.1) Représenter sur un même graphe la fonction $F$ et $p_n$, où\n",
    " $p_n$ est le polynôme d'interpolation de Lagrange de $F$ aux\n",
    " points $x_0,\\,\\ldots,\\,x_n$."
   ]
  },
  {
   "cell_type": "code",
   "execution_count": 51,
   "metadata": {},
   "outputs": [
    {
     "data": {
      "image/png": "[encoded data removed]",
      "text/plain": [
       "<Figure size 432x288 with 1 Axes>"
      ]
     },
     "metadata": {
      "needs_background": "light"
     },
     "output_type": "display_data"
    },
    {
     "data": {
      "image/png": "[encoded data removed]",
      "text/plain": [
       "<Figure size 432x288 with 1 Axes>"
      ]
     },
     "metadata": {
      "needs_background": "light"
     },
     "output_type": "display_data"
    },
    {
     "name": "stdout",
     "output_type": "stream",
     "text": [
      "         2\n",
      "-0.4901 x + 0.9802 x + 0.5\n"
     ]
    }
   ],
   "source": [
    "import matplotlib.pyplot as plt\n",
    "import math\n",
    "from numpy import linspace\n",
    "t=linspace(-1,1,100)\n",
    "x=np.array([0,1,2])\n",
    "f=lambda x:np.pi-np.cos(x/2)+x*np.sqrt(1-(x/2)**2)\n",
    "poly=lagrange(x,y)\n",
    "plt.plot(t,f(t),'g',label=\"F(t)\")\n",
    "plt.legend()\n",
    "plt.show()\n",
    "\n",
    "\n",
    "import matplotlib.pyplot as plt\n",
    "from numpy import linspace \n",
    "f=poly\n",
    "t=linspace(-1,2,100)\n",
    "plt.title(\"Polynome de Lagrange de f(x)\")\n",
    "plt.plot(t,f(t),'g',label=\"F(x)\")\n",
    "plt.legend()\n",
    "plt.show()\n",
    "print(poly)"
   ]
  },
  {
   "cell_type": "code",
   "execution_count": 53,
   "metadata": {},
   "outputs": [
    {
     "data": {
      "image/png": "[encoded data removed]",
      "text/plain": [
       "<Figure size 432x288 with 1 Axes>"
      ]
     },
     "metadata": {
      "needs_background": "light"
     },
     "output_type": "display_data"
    }
   ],
   "source": [
    "import matplotlib.pyplot as plt \n",
    "from numpy import linspace\n",
    "import numpy as np\n",
    "h=0.1\n",
    "f=lambda h: np.pi-np.cos(h/2)+ h*np.sqrt((1-(h/2)**2))\n",
    "t=linspace(-1,2,100)\n",
    "plt.plot(t,f(t),'b',label=\"F(x)\")\n",
    "g=poly\n",
    "plt.plot(t,g(t),'g',label=\"Polynome de Lagrange\")\n",
    "plt.legend()\n",
    "plt.show()\n"
   ]
  },
  {
   "cell_type": "markdown",
   "metadata": {},
   "source": [
    "\n"
   ]
  },
  {
   "cell_type": "markdown",
   "metadata": {},
   "source": [
    "2)Tracer la courbe d'erreur  (la\n",
    " fonction $F-p_n$). Qu'observer vous."
   ]
  },
  {
   "cell_type": "code",
   "execution_count": 65,
   "metadata": {},
   "outputs": [
    {
     "data": {
      "text/plain": [
       "[<matplotlib.lines.Line2D at 0x24879d3e7f0>]"
      ]
     },
     "execution_count": 65,
     "metadata": {},
     "output_type": "execute_result"
    },
    {
     "data": {
      "image/png": "[encoded data removed]",
      "text/plain": [
       "<Figure size 432x288 with 1 Axes>"
      ]
     },
     "metadata": {
      "needs_background": "light"
     },
     "output_type": "display_data"
    }
   ],
   "source": [
    "x=np.arange(0,2)\n",
    "f= lambda x: np.pi-np.cos(x/2)+x*np.sqrt(1-(x/2)**2)\n",
    "y=f(x)\n",
    "\n",
    "for u in np.arange (len(t)):\n",
    "    pn=PR(x,y,t[u])\n",
    "plt.plot(t,f(t)-pn,'r')"
   ]
  },
  {
   "cell_type": "markdown",
   "metadata": {},
   "source": [
    "## Exercice 2  ( Phenomène de Runge )"
   ]
  },
  {
   "cell_type": "markdown",
   "metadata": {},
   "source": [
    "1) Vérifier que sur $[-5,5]$ le polynôme d'interpolation de Lagrange\n",
    "  de la fonction $f$ définie par $f(x)=\\displaystyle{\\frac{1}{1+x^2}}$,\n",
    "en $N$ points uniformément espacés ne convergent pas correctement aux voisinages de $-1$ et $1$, pour $N=7,8,9,10 ...$"
   ]
  },
  {
   "cell_type": "code",
   "execution_count": 36,
   "metadata": {},
   "outputs": [
    {
     "data": {
      "image/png": "[encoded data removed]",
      "text/plain": [
       "<IPython.core.display.Image object>"
      ]
     },
     "metadata": {},
     "output_type": "display_data"
    }
   ],
   "source": [
    "N=7;\n",
    "X=linspace(-5,5,N);\n",
    "f=@(x) 1./(1+x.^2);\n",
    "Y=f(X);\n",
    "p=polyfit(X,Y,N-1);\n",
    "t=linspace(-5,5,1000);\n",
    "subplot(2,2,1)\n",
    "plot(t,f(t),'r',X,Y,'ob', t, polyval(p,t),'g')\n",
    "title(\"Interpolation Equidistante avec N=7\")\n",
    "##############################\n",
    "N=8;\n",
    "X=linspace(-5,5,N);\n",
    "f=@(x) 1./(1+x.^2);\n",
    "Y=f(X);\n",
    "p=polyfit(X,Y,N-1);\n",
    "t=linspace(-5,5,1000);\n",
    "subplot(2,2,2)\n",
    "plot(t,f(t),'r',X,Y,'ob', t, polyval(p,t),'g')\n",
    "title(\"Interpolation Equidistante avec N=8\")\n",
    "##############################\n",
    "N=9;\n",
    "X=linspace(-5,5,N);\n",
    "f=@(x) 1./(1+x.^2);\n",
    "Y=f(X);\n",
    "p=polyfit(X,Y,N-1);\n",
    "t=linspace(-5,5,1000);\n",
    "subplot(2,2,3)\n",
    "plot(t,f(t),'r',X,Y,'ob', t, polyval(p,t),'g')\n",
    "title(\"Interpolation Equidistante avec N=9\")\n",
    "##############################\n",
    "N=10;\n",
    "X=linspace(-5,5,N);\n",
    "f=@(x) 1./(1+x.^2);\n",
    "Y=f(X);\n",
    "p=polyfit(X,Y,N-1);\n",
    "t=linspace(-5,5,1000);\n",
    "subplot(2,2,4)\n",
    "plot(t,f(t),'r',X,Y,'ob', t, polyval(p,t),'g')\n",
    "title(\"Interpolation Equidistante avec N=10\")"
   ]
  },
  {
   "cell_type": "markdown",
   "metadata": {},
   "source": [
    "2) Les points de Tchebycheff sur un intervalle $[a;b]$ sont définie par :\n",
    "  $$x_k=\\dfrac{a+b}{2}+\\dfrac{a-b}{2}\\cos\\left(\\frac{k-1}{n-1}\\pi\\right)\\hspace{0.5cm} (k=1,..,n: x_1=a:x_n=b)$$\n",
    "\n",
    "  Vérifier que sur $[-5; 5]$ ; l'interpolation polynômiale de $f(x) = \\dfrac{1}{1 + x^2}$ ; en $N$ points de Tchebychev\n",
    "est meilleure qu'une  interpolation utilisant $N$ points uniforment espacés (on prendra $N=10, 11, 16, 17$)."
   ]
  },
  {
   "cell_type": "code",
   "execution_count": 34,
   "metadata": {},
   "outputs": [],
   "source": [
    "function V=tcheb(a,b,n)\n",
    "V=[];\n",
    "for k=[1:n]\n",
    "V(k)=(a+b)/2+(a-b)/2*cos((k-1)/(n-1)*pi);\n",
    "end \n",
    "end\n",
    "V=tcheb(-5,5,11);"
   ]
  },
  {
   "cell_type": "code",
   "execution_count": 37,
   "metadata": {},
   "outputs": [
    {
     "data": {
      "image/png": "[encoded data removed]",
      "text/plain": [
       "<IPython.core.display.Image object>"
      ]
     },
     "metadata": {},
     "output_type": "display_data"
    }
   ],
   "source": [
    "N=10;\n",
    "f=@(x) 1./(1+x.^2);\n",
    "Xt=tcheb(-5,5,N);\n",
    "Yt=f(Xt);\n",
    "pt=polyfit(Xt,Yt,N-1);\n",
    "subplot(2,2,1)\n",
    "plot(t,f(t),'r',Xt,Yt,'ob', t, polyval(pt,t),'g')\n",
    "title(\"Interpolation Tchebycheff avec N=10\")\n",
    "##########################################\n",
    "N=11;\n",
    "f=@(x) 1./(1+x.^2);\n",
    "Xt=tcheb(-5,5,N);\n",
    "Yt=f(Xt);\n",
    "pt=polyfit(Xt,Yt,N-1);\n",
    "subplot(2,2,2)\n",
    "plot(t,f(t),'r',Xt,Yt,'ob', t, polyval(pt,t),'g')\n",
    "title(\"Interpolation Tchebycheff avec N=11\")\n",
    "##########################################\n",
    "N=16;\n",
    "f=@(x) 1./(1+x.^2);\n",
    "Xt=tcheb(-5,5,N);\n",
    "Yt=f(Xt);\n",
    "pt=polyfit(Xt,Yt,N-1);\n",
    "subplot(2,2,3)\n",
    "plot(t,f(t),'r',Xt,Yt,'ob', t, polyval(pt,t),'g')\n",
    "title(\"Interpolation Tchebycheff avec N=16\")\n",
    "##########################################\n",
    "N=17;\n",
    "f=@(x) 1./(1+x.^2);\n",
    "Xt=tcheb(-5,5,N);\n",
    "Yt=f(Xt);\n",
    "pt=polyfit(Xt,Yt,N-1);\n",
    "subplot(2,2,4)\n",
    "plot(t,f(t),'r',Xt,Yt,'ob', t, polyval(pt,t),'g')\n",
    "title(\"Interpolation Tchebycheff avec N=17\")"
   ]
  },
  {
   "cell_type": "markdown",
   "metadata": {},
   "source": [
    "## Exercice 3"
   ]
  },
  {
   "cell_type": "markdown",
   "metadata": {},
   "source": [
    "On considère les deux programme MATLAB suivant :\n",
    "``` octave\n",
    "function f=intN(x,f)% RECURSIVE\n",
    "m=length(x);\n",
    "for k=2:m;\n",
    "    f(k:m)=(f(k:m)-f(k-1:m-1))./(x(k:m)-x(1:m+1-k))\n",
    "end\n",
    "``` \n",
    "``` octave\n",
    "function p=intNval(x,c,t)\n",
    "m=length(x);\n",
    "p=c(m)*ones(size(t));\n",
    "for k=m-1:-1:1;\n",
    "    p=p.*(t-x(k))+c(k);\n",
    "end\n",
    "```"
   ]
  },
  {
   "cell_type": "markdown",
   "metadata": {},
   "source": [
    "1) Déterminer en utilisant les deux codes puis par un calcul à la main le polynôme de Newton pour les données suivantes :\n",
    "\n",
    "\n",
    "<center>\n",
    "<table>    \n",
    "      $\\begin{array}{|c|c|c|}\n",
    "   \\hline\n",
    "   i & x_i  & y_i \\\\\n",
    "   \\hline\n",
    "   0 &   -1  &   6 \\\\\n",
    "   1 &   0 &  1 \\\\\n",
    "   2 &  2  &  3 \\\\\n",
    "   3 &  5  &  66 \\\\\n",
    "   \\hline\n",
    "\\end{array}$  \n",
    "</table>\n",
    "</center>"
   ]
  },
  {
   "cell_type": "code",
   "execution_count": 52,
   "metadata": {},
   "outputs": [],
   "source": [
    "function f=intN(x,y)\n",
    "m=length(x);\n",
    "    for k=2:m\n",
    "    f(k:m)=(y(k:m)-y(k-1:m-1))./(x(k:m)-x(1:m+1-k));\n",
    "    end\n",
    "end"
   ]
  },
  {
   "cell_type": "code",
   "execution_count": 54,
   "metadata": {},
   "outputs": [
    {
     "name": "stdout",
     "output_type": "stream",
     "text": [
      "f =\n",
      "\n",
      "    0.00000   -5.00000    0.66667   10.50000\n",
      "\n"
     ]
    }
   ],
   "source": [
    "x=[-1,0,2,5];\n",
    "y=[6,1,3,66];\n",
    "f=intN(x,y)"
   ]
  },
  {
   "cell_type": "code",
   "execution_count": 58,
   "metadata": {},
   "outputs": [],
   "source": [
    "function p=intNval(x,y,t)\n",
    "m=length(x);\n",
    "p=y(m)*ones(size(t));\n",
    "for k=m-1:-1:1\n",
    "    p=p.*(t-x(k))+y(k);\n",
    "end\n",
    "end"
   ]
  },
  {
   "cell_type": "code",
   "execution_count": 59,
   "metadata": {},
   "outputs": [
    {
     "name": "stdout",
     "output_type": "stream",
     "text": [
      "f =\n",
      "\n",
      "     7  -118    27   838\n",
      "\n"
     ]
    }
   ],
   "source": [
    "x=[-1,0,2,5];\n",
    "y=[6,1,3,66];\n",
    "t=[0,1,2,3];\n",
    "f=intNval(x,y,t)"
   ]
  },
  {
   "cell_type": "code",
   "execution_count": null,
   "metadata": {},
   "outputs": [],
   "source": [
    "##Calcul a la main"
   ]
  },
  {
   "cell_type": "markdown",
   "metadata": {},
   "source": [
    "2) Donner le Graph du polynôme trouvé en 1) dans l'intervalle $[-1;5]$."
   ]
  },
  {
   "cell_type": "code",
   "execution_count": 65,
   "metadata": {},
   "outputs": [
    {
     "data": {
      "image/png": "[encoded data removed]",
      "text/plain": [
       "<IPython.core.display.Image object>"
      ]
     },
     "metadata": {},
     "output_type": "display_data"
    }
   ],
   "source": [
    "x=[-1,0,2,5];\n",
    "y=[6,1,3,66];\n",
    "f=intN(x,y);\n",
    "plot(x,f,'r',x,y,'ob')"
   ]
  },
  {
   "cell_type": "markdown",
   "metadata": {},
   "source": [
    "3) Calculer $P(1)$ en utilisant le polynôme trouvé en 1)."
   ]
  },
  {
   "cell_type": "code",
   "execution_count": 66,
   "metadata": {},
   "outputs": [
    {
     "name": "stdout",
     "output_type": "stream",
     "text": [
      "ans =  7\n"
     ]
    }
   ],
   "source": [
    "x=[-1,0,2,5];\n",
    "y=[6,1,3,66];\n",
    "t=[0,1,2,3];\n",
    "p=intNval(x,y,t);\n",
    "p(1)"
   ]
  },
  {
   "cell_type": "markdown",
   "metadata": {},
   "source": [
    "4) Recalculer à la main et puis à l'aide du Programme neville la valeur de $P(1)$."
   ]
  },
  {
   "cell_type": "code",
   "execution_count": null,
   "metadata": {},
   "outputs": [],
   "source": []
  }
 ],
 "metadata": {
  "kernelspec": {
   "display_name": "Python 3",
   "language": "python",
   "name": "python3"
  },
  "language_info": {
   "codemirror_mode": {
    "name": "ipython",
    "version": 3
   },
   "file_extension": ".py",
   "mimetype": "text/x-python",
   "name": "python",
   "nbconvert_exporter": "python",
   "pygments_lexer": "ipython3",
   "version": "3.8.8"
  }
 },
 "nbformat": 4,
 "nbformat_minor": 2
}
